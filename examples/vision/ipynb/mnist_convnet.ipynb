{
  "cells": [
    {
      "cell_type": "markdown",
      "metadata": {
        "id": "KxyukRpk_RAh"
      },
      "source": [
        "# Simple MNIST convnet\n",
        "\n",
        "**Author:** [fchollet](https://twitter.com/fchollet)<br>\n",
        "**Date created:** 2015/06/19<br>\n",
        "**Last modified:** 2020/04/21<br>\n",
        "**Description:** A simple convnet that achieves ~99% test accuracy on MNIST."
      ]
    },
    {
      "cell_type": "markdown",
      "metadata": {
        "id": "-icGOuZ7_RAk"
      },
      "source": [
        "## Setup"
      ]
    },
    {
      "cell_type": "code",
      "execution_count": 27,
      "metadata": {
        "id": "-kMbJObO_RAk"
      },
      "outputs": [],
      "source": [
        "import numpy as np\n",
        "import keras\n",
        "from keras import layers\n",
        "from sklearn.metrics import confusion_matrix, ConfusionMatrixDisplay\n",
        "import matplotlib.pyplot as plt\n",
        "from keras.callbacks import EarlyStopping, ModelCheckpoint\n",
        "from keras.callbacks import TensorBoard\n",
        "import os"
      ]
    },
    {
      "cell_type": "code",
      "source": [
        "# Crear una carpeta para los logs de TensorBoard\n",
        "log_dir = \"logs\"\n",
        "if not os.path.exists(log_dir):\n",
        "    os.makedirs(log_dir)\n",
        "\n",
        "# Crear el callback de TensorBoard\n",
        "tensorboard_callback = TensorBoard(log_dir=log_dir, histogram_freq=1)\n"
      ],
      "metadata": {
        "id": "m34h4nR9FBNi"
      },
      "execution_count": 28,
      "outputs": []
    },
    {
      "cell_type": "markdown",
      "metadata": {
        "id": "383u891Y_RAl"
      },
      "source": [
        "## Prepare the data"
      ]
    },
    {
      "cell_type": "code",
      "execution_count": 29,
      "metadata": {
        "colab": {
          "base_uri": "https://localhost:8080/"
        },
        "id": "c3WfH3MR_RAm",
        "outputId": "787b2a78-ca09-400e-fa18-e1acdee68170"
      },
      "outputs": [
        {
          "output_type": "stream",
          "name": "stdout",
          "text": [
            "x_train shape: (60000, 28, 28, 1)\n",
            "60000 train samples\n",
            "10000 test samples\n"
          ]
        }
      ],
      "source": [
        "# Model / data parameters\n",
        "num_classes = 10\n",
        "input_shape = (28, 28, 1)\n",
        "\n",
        "# Load the data and split it between train and test sets\n",
        "(x_train, y_train), (x_test, y_test) = keras.datasets.mnist.load_data()\n",
        "\n",
        "# Scale images to the [0, 1] range\n",
        "x_train = x_train.astype(\"float32\") / 255\n",
        "x_test = x_test.astype(\"float32\") / 255\n",
        "# Make sure images have shape (28, 28, 1)\n",
        "x_train = np.expand_dims(x_train, -1)\n",
        "x_test = np.expand_dims(x_test, -1)\n",
        "print(\"x_train shape:\", x_train.shape)\n",
        "print(x_train.shape[0], \"train samples\")\n",
        "print(x_test.shape[0], \"test samples\")\n",
        "\n",
        "# Convert class vectors to binary class matrices\n",
        "y_train = keras.utils.to_categorical(y_train, num_classes)\n",
        "y_test = keras.utils.to_categorical(y_test, num_classes)"
      ]
    },
    {
      "cell_type": "markdown",
      "metadata": {
        "id": "BJuF3FGk_RAm"
      },
      "source": [
        "## Build the model"
      ]
    },
    {
      "cell_type": "code",
      "execution_count": 30,
      "metadata": {
        "colab": {
          "base_uri": "https://localhost:8080/",
          "height": 374
        },
        "id": "UBC2hjnJ_RAm",
        "outputId": "26f81f25-014c-47ee-fcdb-ac2b1d1f5880"
      },
      "outputs": [
        {
          "output_type": "display_data",
          "data": {
            "text/plain": [
              "\u001b[1mModel: \"sequential_4\"\u001b[0m\n"
            ],
            "text/html": [
              "<pre style=\"white-space:pre;overflow-x:auto;line-height:normal;font-family:Menlo,'DejaVu Sans Mono',consolas,'Courier New',monospace\"><span style=\"font-weight: bold\">Model: \"sequential_4\"</span>\n",
              "</pre>\n"
            ]
          },
          "metadata": {}
        },
        {
          "output_type": "display_data",
          "data": {
            "text/plain": [
              "┏━━━━━━━━━━━━━━━━━━━━━━━━━━━━━━━━━━━━━━┳━━━━━━━━━━━━━━━━━━━━━━━━━━━━━┳━━━━━━━━━━━━━━━━━┓\n",
              "┃\u001b[1m \u001b[0m\u001b[1mLayer (type)                        \u001b[0m\u001b[1m \u001b[0m┃\u001b[1m \u001b[0m\u001b[1mOutput Shape               \u001b[0m\u001b[1m \u001b[0m┃\u001b[1m \u001b[0m\u001b[1m        Param #\u001b[0m\u001b[1m \u001b[0m┃\n",
              "┡━━━━━━━━━━━━━━━━━━━━━━━━━━━━━━━━━━━━━━╇━━━━━━━━━━━━━━━━━━━━━━━━━━━━━╇━━━━━━━━━━━━━━━━━┩\n",
              "│ conv2d_4 (\u001b[38;5;33mConv2D\u001b[0m)                    │ (\u001b[38;5;45mNone\u001b[0m, \u001b[38;5;34m26\u001b[0m, \u001b[38;5;34m26\u001b[0m, \u001b[38;5;34m32\u001b[0m)          │             \u001b[38;5;34m320\u001b[0m │\n",
              "├──────────────────────────────────────┼─────────────────────────────┼─────────────────┤\n",
              "│ max_pooling2d_4 (\u001b[38;5;33mMaxPooling2D\u001b[0m)       │ (\u001b[38;5;45mNone\u001b[0m, \u001b[38;5;34m13\u001b[0m, \u001b[38;5;34m13\u001b[0m, \u001b[38;5;34m32\u001b[0m)          │               \u001b[38;5;34m0\u001b[0m │\n",
              "├──────────────────────────────────────┼─────────────────────────────┼─────────────────┤\n",
              "│ conv2d_5 (\u001b[38;5;33mConv2D\u001b[0m)                    │ (\u001b[38;5;45mNone\u001b[0m, \u001b[38;5;34m11\u001b[0m, \u001b[38;5;34m11\u001b[0m, \u001b[38;5;34m64\u001b[0m)          │          \u001b[38;5;34m18,496\u001b[0m │\n",
              "├──────────────────────────────────────┼─────────────────────────────┼─────────────────┤\n",
              "│ max_pooling2d_5 (\u001b[38;5;33mMaxPooling2D\u001b[0m)       │ (\u001b[38;5;45mNone\u001b[0m, \u001b[38;5;34m5\u001b[0m, \u001b[38;5;34m5\u001b[0m, \u001b[38;5;34m64\u001b[0m)            │               \u001b[38;5;34m0\u001b[0m │\n",
              "├──────────────────────────────────────┼─────────────────────────────┼─────────────────┤\n",
              "│ flatten_4 (\u001b[38;5;33mFlatten\u001b[0m)                  │ (\u001b[38;5;45mNone\u001b[0m, \u001b[38;5;34m1600\u001b[0m)                │               \u001b[38;5;34m0\u001b[0m │\n",
              "├──────────────────────────────────────┼─────────────────────────────┼─────────────────┤\n",
              "│ dropout_2 (\u001b[38;5;33mDropout\u001b[0m)                  │ (\u001b[38;5;45mNone\u001b[0m, \u001b[38;5;34m1600\u001b[0m)                │               \u001b[38;5;34m0\u001b[0m │\n",
              "├──────────────────────────────────────┼─────────────────────────────┼─────────────────┤\n",
              "│ dense_6 (\u001b[38;5;33mDense\u001b[0m)                      │ (\u001b[38;5;45mNone\u001b[0m, \u001b[38;5;34m10\u001b[0m)                  │          \u001b[38;5;34m16,010\u001b[0m │\n",
              "└──────────────────────────────────────┴─────────────────────────────┴─────────────────┘\n"
            ],
            "text/html": [
              "<pre style=\"white-space:pre;overflow-x:auto;line-height:normal;font-family:Menlo,'DejaVu Sans Mono',consolas,'Courier New',monospace\">┏━━━━━━━━━━━━━━━━━━━━━━━━━━━━━━━━━━━━━━┳━━━━━━━━━━━━━━━━━━━━━━━━━━━━━┳━━━━━━━━━━━━━━━━━┓\n",
              "┃<span style=\"font-weight: bold\"> Layer (type)                         </span>┃<span style=\"font-weight: bold\"> Output Shape                </span>┃<span style=\"font-weight: bold\">         Param # </span>┃\n",
              "┡━━━━━━━━━━━━━━━━━━━━━━━━━━━━━━━━━━━━━━╇━━━━━━━━━━━━━━━━━━━━━━━━━━━━━╇━━━━━━━━━━━━━━━━━┩\n",
              "│ conv2d_4 (<span style=\"color: #0087ff; text-decoration-color: #0087ff\">Conv2D</span>)                    │ (<span style=\"color: #00d7ff; text-decoration-color: #00d7ff\">None</span>, <span style=\"color: #00af00; text-decoration-color: #00af00\">26</span>, <span style=\"color: #00af00; text-decoration-color: #00af00\">26</span>, <span style=\"color: #00af00; text-decoration-color: #00af00\">32</span>)          │             <span style=\"color: #00af00; text-decoration-color: #00af00\">320</span> │\n",
              "├──────────────────────────────────────┼─────────────────────────────┼─────────────────┤\n",
              "│ max_pooling2d_4 (<span style=\"color: #0087ff; text-decoration-color: #0087ff\">MaxPooling2D</span>)       │ (<span style=\"color: #00d7ff; text-decoration-color: #00d7ff\">None</span>, <span style=\"color: #00af00; text-decoration-color: #00af00\">13</span>, <span style=\"color: #00af00; text-decoration-color: #00af00\">13</span>, <span style=\"color: #00af00; text-decoration-color: #00af00\">32</span>)          │               <span style=\"color: #00af00; text-decoration-color: #00af00\">0</span> │\n",
              "├──────────────────────────────────────┼─────────────────────────────┼─────────────────┤\n",
              "│ conv2d_5 (<span style=\"color: #0087ff; text-decoration-color: #0087ff\">Conv2D</span>)                    │ (<span style=\"color: #00d7ff; text-decoration-color: #00d7ff\">None</span>, <span style=\"color: #00af00; text-decoration-color: #00af00\">11</span>, <span style=\"color: #00af00; text-decoration-color: #00af00\">11</span>, <span style=\"color: #00af00; text-decoration-color: #00af00\">64</span>)          │          <span style=\"color: #00af00; text-decoration-color: #00af00\">18,496</span> │\n",
              "├──────────────────────────────────────┼─────────────────────────────┼─────────────────┤\n",
              "│ max_pooling2d_5 (<span style=\"color: #0087ff; text-decoration-color: #0087ff\">MaxPooling2D</span>)       │ (<span style=\"color: #00d7ff; text-decoration-color: #00d7ff\">None</span>, <span style=\"color: #00af00; text-decoration-color: #00af00\">5</span>, <span style=\"color: #00af00; text-decoration-color: #00af00\">5</span>, <span style=\"color: #00af00; text-decoration-color: #00af00\">64</span>)            │               <span style=\"color: #00af00; text-decoration-color: #00af00\">0</span> │\n",
              "├──────────────────────────────────────┼─────────────────────────────┼─────────────────┤\n",
              "│ flatten_4 (<span style=\"color: #0087ff; text-decoration-color: #0087ff\">Flatten</span>)                  │ (<span style=\"color: #00d7ff; text-decoration-color: #00d7ff\">None</span>, <span style=\"color: #00af00; text-decoration-color: #00af00\">1600</span>)                │               <span style=\"color: #00af00; text-decoration-color: #00af00\">0</span> │\n",
              "├──────────────────────────────────────┼─────────────────────────────┼─────────────────┤\n",
              "│ dropout_2 (<span style=\"color: #0087ff; text-decoration-color: #0087ff\">Dropout</span>)                  │ (<span style=\"color: #00d7ff; text-decoration-color: #00d7ff\">None</span>, <span style=\"color: #00af00; text-decoration-color: #00af00\">1600</span>)                │               <span style=\"color: #00af00; text-decoration-color: #00af00\">0</span> │\n",
              "├──────────────────────────────────────┼─────────────────────────────┼─────────────────┤\n",
              "│ dense_6 (<span style=\"color: #0087ff; text-decoration-color: #0087ff\">Dense</span>)                      │ (<span style=\"color: #00d7ff; text-decoration-color: #00d7ff\">None</span>, <span style=\"color: #00af00; text-decoration-color: #00af00\">10</span>)                  │          <span style=\"color: #00af00; text-decoration-color: #00af00\">16,010</span> │\n",
              "└──────────────────────────────────────┴─────────────────────────────┴─────────────────┘\n",
              "</pre>\n"
            ]
          },
          "metadata": {}
        },
        {
          "output_type": "display_data",
          "data": {
            "text/plain": [
              "\u001b[1m Total params: \u001b[0m\u001b[38;5;34m34,826\u001b[0m (136.04 KB)\n"
            ],
            "text/html": [
              "<pre style=\"white-space:pre;overflow-x:auto;line-height:normal;font-family:Menlo,'DejaVu Sans Mono',consolas,'Courier New',monospace\"><span style=\"font-weight: bold\"> Total params: </span><span style=\"color: #00af00; text-decoration-color: #00af00\">34,826</span> (136.04 KB)\n",
              "</pre>\n"
            ]
          },
          "metadata": {}
        },
        {
          "output_type": "display_data",
          "data": {
            "text/plain": [
              "\u001b[1m Trainable params: \u001b[0m\u001b[38;5;34m34,826\u001b[0m (136.04 KB)\n"
            ],
            "text/html": [
              "<pre style=\"white-space:pre;overflow-x:auto;line-height:normal;font-family:Menlo,'DejaVu Sans Mono',consolas,'Courier New',monospace\"><span style=\"font-weight: bold\"> Trainable params: </span><span style=\"color: #00af00; text-decoration-color: #00af00\">34,826</span> (136.04 KB)\n",
              "</pre>\n"
            ]
          },
          "metadata": {}
        },
        {
          "output_type": "display_data",
          "data": {
            "text/plain": [
              "\u001b[1m Non-trainable params: \u001b[0m\u001b[38;5;34m0\u001b[0m (0.00 B)\n"
            ],
            "text/html": [
              "<pre style=\"white-space:pre;overflow-x:auto;line-height:normal;font-family:Menlo,'DejaVu Sans Mono',consolas,'Courier New',monospace\"><span style=\"font-weight: bold\"> Non-trainable params: </span><span style=\"color: #00af00; text-decoration-color: #00af00\">0</span> (0.00 B)\n",
              "</pre>\n"
            ]
          },
          "metadata": {}
        }
      ],
      "source": [
        "model = keras.Sequential(\n",
        "    [\n",
        "        keras.Input(shape=input_shape),\n",
        "        layers.Conv2D(32, kernel_size=(3, 3), activation=\"relu\"),\n",
        "        layers.MaxPooling2D(pool_size=(2, 2)),\n",
        "        layers.Conv2D(64, kernel_size=(3, 3), activation=\"relu\"),\n",
        "        layers.MaxPooling2D(pool_size=(2, 2)),\n",
        "        layers.Flatten(),\n",
        "        layers.Dropout(0.5),\n",
        "        layers.Dense(num_classes, activation=\"softmax\"),\n",
        "    ]\n",
        ")\n",
        "\n",
        "model.summary()"
      ]
    },
    {
      "cell_type": "markdown",
      "metadata": {
        "id": "aBZKGuNF_RAn"
      },
      "source": [
        "## Train the model"
      ]
    },
    {
      "cell_type": "code",
      "execution_count": 31,
      "metadata": {
        "colab": {
          "base_uri": "https://localhost:8080/"
        },
        "id": "dDNyIDTY_RAo",
        "outputId": "8b9d85da-e72f-4883-a573-da8db1237be8"
      },
      "outputs": [
        {
          "output_type": "stream",
          "name": "stdout",
          "text": [
            "Epoch 1/15\n",
            "\u001b[1m422/422\u001b[0m \u001b[32m━━━━━━━━━━━━━━━━━━━━\u001b[0m\u001b[37m\u001b[0m \u001b[1m7s\u001b[0m 10ms/step - Precision: 0.8873 - Recall: 0.6412 - accuracy: 0.7694 - loss: 0.7584 - val_Precision: 0.9834 - val_Recall: 0.9745 - val_accuracy: 0.9788 - val_loss: 0.0821\n",
            "Epoch 2/15\n",
            "\u001b[1m422/422\u001b[0m \u001b[32m━━━━━━━━━━━━━━━━━━━━\u001b[0m\u001b[37m\u001b[0m \u001b[1m2s\u001b[0m 5ms/step - Precision: 0.9705 - Recall: 0.9595 - accuracy: 0.9645 - loss: 0.1182 - val_Precision: 0.9890 - val_Recall: 0.9847 - val_accuracy: 0.9865 - val_loss: 0.0539\n",
            "Epoch 3/15\n",
            "\u001b[1m422/422\u001b[0m \u001b[32m━━━━━━━━━━━━━━━━━━━━\u001b[0m\u001b[37m\u001b[0m \u001b[1m2s\u001b[0m 4ms/step - Precision: 0.9770 - Recall: 0.9690 - accuracy: 0.9726 - loss: 0.0872 - val_Precision: 0.9883 - val_Recall: 0.9858 - val_accuracy: 0.9873 - val_loss: 0.0492\n",
            "Epoch 4/15\n",
            "\u001b[1m422/422\u001b[0m \u001b[32m━━━━━━━━━━━━━━━━━━━━\u001b[0m\u001b[37m\u001b[0m \u001b[1m1s\u001b[0m 4ms/step - Precision: 0.9806 - Recall: 0.9757 - accuracy: 0.9780 - loss: 0.0702 - val_Precision: 0.9905 - val_Recall: 0.9875 - val_accuracy: 0.9890 - val_loss: 0.0418\n",
            "Epoch 5/15\n",
            "\u001b[1m422/422\u001b[0m \u001b[32m━━━━━━━━━━━━━━━━━━━━\u001b[0m\u001b[37m\u001b[0m \u001b[1m3s\u001b[0m 4ms/step - Precision: 0.9833 - Recall: 0.9788 - accuracy: 0.9808 - loss: 0.0630 - val_Precision: 0.9903 - val_Recall: 0.9888 - val_accuracy: 0.9892 - val_loss: 0.0388\n",
            "Epoch 6/15\n",
            "\u001b[1m422/422\u001b[0m \u001b[32m━━━━━━━━━━━━━━━━━━━━\u001b[0m\u001b[37m\u001b[0m \u001b[1m1s\u001b[0m 3ms/step - Precision: 0.9859 - Recall: 0.9821 - accuracy: 0.9836 - loss: 0.0511 - val_Precision: 0.9913 - val_Recall: 0.9880 - val_accuracy: 0.9897 - val_loss: 0.0348\n",
            "Epoch 7/15\n",
            "\u001b[1m422/422\u001b[0m \u001b[32m━━━━━━━━━━━━━━━━━━━━\u001b[0m\u001b[37m\u001b[0m \u001b[1m3s\u001b[0m 4ms/step - Precision: 0.9856 - Recall: 0.9823 - accuracy: 0.9836 - loss: 0.0535 - val_Precision: 0.9903 - val_Recall: 0.9890 - val_accuracy: 0.9893 - val_loss: 0.0361\n",
            "Epoch 8/15\n",
            "\u001b[1m422/422\u001b[0m \u001b[32m━━━━━━━━━━━━━━━━━━━━\u001b[0m\u001b[37m\u001b[0m \u001b[1m3s\u001b[0m 4ms/step - Precision: 0.9875 - Recall: 0.9842 - accuracy: 0.9858 - loss: 0.0460 - val_Precision: 0.9927 - val_Recall: 0.9910 - val_accuracy: 0.9913 - val_loss: 0.0315\n",
            "Epoch 9/15\n",
            "\u001b[1m422/422\u001b[0m \u001b[32m━━━━━━━━━━━━━━━━━━━━\u001b[0m\u001b[37m\u001b[0m \u001b[1m2s\u001b[0m 4ms/step - Precision: 0.9878 - Recall: 0.9847 - accuracy: 0.9861 - loss: 0.0447 - val_Precision: 0.9938 - val_Recall: 0.9912 - val_accuracy: 0.9923 - val_loss: 0.0293\n",
            "Epoch 10/15\n",
            "\u001b[1m422/422\u001b[0m \u001b[32m━━━━━━━━━━━━━━━━━━━━\u001b[0m\u001b[37m\u001b[0m \u001b[1m1s\u001b[0m 4ms/step - Precision: 0.9889 - Recall: 0.9867 - accuracy: 0.9876 - loss: 0.0400 - val_Precision: 0.9927 - val_Recall: 0.9910 - val_accuracy: 0.9913 - val_loss: 0.0304\n",
            "Epoch 11/15\n",
            "\u001b[1m422/422\u001b[0m \u001b[32m━━━━━━━━━━━━━━━━━━━━\u001b[0m\u001b[37m\u001b[0m \u001b[1m3s\u001b[0m 4ms/step - Precision: 0.9880 - Recall: 0.9857 - accuracy: 0.9868 - loss: 0.0408 - val_Precision: 0.9927 - val_Recall: 0.9913 - val_accuracy: 0.9920 - val_loss: 0.0310\n",
            "Epoch 12/15\n",
            "\u001b[1m422/422\u001b[0m \u001b[32m━━━━━━━━━━━━━━━━━━━━\u001b[0m\u001b[37m\u001b[0m \u001b[1m3s\u001b[0m 4ms/step - Precision: 0.9889 - Recall: 0.9872 - accuracy: 0.9880 - loss: 0.0360 - val_Precision: 0.9927 - val_Recall: 0.9917 - val_accuracy: 0.9917 - val_loss: 0.0280\n",
            "Epoch 13/15\n",
            "\u001b[1m422/422\u001b[0m \u001b[32m━━━━━━━━━━━━━━━━━━━━\u001b[0m\u001b[37m\u001b[0m \u001b[1m2s\u001b[0m 4ms/step - Precision: 0.9895 - Recall: 0.9878 - accuracy: 0.9887 - loss: 0.0341 - val_Precision: 0.9927 - val_Recall: 0.9910 - val_accuracy: 0.9920 - val_loss: 0.0296\n",
            "Epoch 14/15\n",
            "\u001b[1m422/422\u001b[0m \u001b[32m━━━━━━━━━━━━━━━━━━━━\u001b[0m\u001b[37m\u001b[0m \u001b[1m2s\u001b[0m 5ms/step - Precision: 0.9895 - Recall: 0.9877 - accuracy: 0.9884 - loss: 0.0330 - val_Precision: 0.9928 - val_Recall: 0.9917 - val_accuracy: 0.9922 - val_loss: 0.0285\n",
            "Epoch 15/15\n",
            "\u001b[1m422/422\u001b[0m \u001b[32m━━━━━━━━━━━━━━━━━━━━\u001b[0m\u001b[37m\u001b[0m \u001b[1m2s\u001b[0m 4ms/step - Precision: 0.9905 - Recall: 0.9884 - accuracy: 0.9895 - loss: 0.0330 - val_Precision: 0.9932 - val_Recall: 0.9923 - val_accuracy: 0.9927 - val_loss: 0.0265\n",
            "Epoch 1/15\n",
            "\u001b[1m422/422\u001b[0m \u001b[32m━━━━━━━━━━━━━━━━━━━━\u001b[0m\u001b[37m\u001b[0m \u001b[1m3s\u001b[0m 6ms/step - Precision: 0.9911 - Recall: 0.9895 - accuracy: 0.9900 - loss: 0.0299 - val_Precision: 0.9922 - val_Recall: 0.9908 - val_accuracy: 0.9913 - val_loss: 0.0268\n",
            "Epoch 2/15\n",
            "\u001b[1m422/422\u001b[0m \u001b[32m━━━━━━━━━━━━━━━━━━━━\u001b[0m\u001b[37m\u001b[0m \u001b[1m5s\u001b[0m 6ms/step - Precision: 0.9902 - Recall: 0.9887 - accuracy: 0.9895 - loss: 0.0296 - val_Precision: 0.9928 - val_Recall: 0.9918 - val_accuracy: 0.9923 - val_loss: 0.0277\n",
            "Epoch 3/15\n",
            "\u001b[1m422/422\u001b[0m \u001b[32m━━━━━━━━━━━━━━━━━━━━\u001b[0m\u001b[37m\u001b[0m \u001b[1m5s\u001b[0m 6ms/step - Precision: 0.9902 - Recall: 0.9890 - accuracy: 0.9896 - loss: 0.0295 - val_Precision: 0.9930 - val_Recall: 0.9922 - val_accuracy: 0.9922 - val_loss: 0.0284\n",
            "Epoch 4/15\n",
            "\u001b[1m422/422\u001b[0m \u001b[32m━━━━━━━━━━━━━━━━━━━━\u001b[0m\u001b[37m\u001b[0m \u001b[1m2s\u001b[0m 6ms/step - Precision: 0.9914 - Recall: 0.9903 - accuracy: 0.9908 - loss: 0.0279 - val_Precision: 0.9932 - val_Recall: 0.9930 - val_accuracy: 0.9930 - val_loss: 0.0271\n",
            "Epoch 5/15\n",
            "\u001b[1m422/422\u001b[0m \u001b[32m━━━━━━━━━━━━━━━━━━━━\u001b[0m\u001b[37m\u001b[0m \u001b[1m2s\u001b[0m 6ms/step - Precision: 0.9918 - Recall: 0.9903 - accuracy: 0.9910 - loss: 0.0271 - val_Precision: 0.9930 - val_Recall: 0.9920 - val_accuracy: 0.9925 - val_loss: 0.0285\n",
            "Epoch 6/15\n",
            "\u001b[1m422/422\u001b[0m \u001b[32m━━━━━━━━━━━━━━━━━━━━\u001b[0m\u001b[37m\u001b[0m \u001b[1m3s\u001b[0m 6ms/step - Precision: 0.9914 - Recall: 0.9900 - accuracy: 0.9906 - loss: 0.0269 - val_Precision: 0.9938 - val_Recall: 0.9925 - val_accuracy: 0.9928 - val_loss: 0.0271\n",
            "Epoch 7/15\n",
            "\u001b[1m422/422\u001b[0m \u001b[32m━━━━━━━━━━━━━━━━━━━━\u001b[0m\u001b[37m\u001b[0m \u001b[1m3s\u001b[0m 6ms/step - Precision: 0.9919 - Recall: 0.9909 - accuracy: 0.9913 - loss: 0.0261 - val_Precision: 0.9930 - val_Recall: 0.9918 - val_accuracy: 0.9922 - val_loss: 0.0274\n",
            "Epoch 8/15\n",
            "\u001b[1m422/422\u001b[0m \u001b[32m━━━━━━━━━━━━━━━━━━━━\u001b[0m\u001b[37m\u001b[0m \u001b[1m2s\u001b[0m 5ms/step - Precision: 0.9919 - Recall: 0.9909 - accuracy: 0.9911 - loss: 0.0239 - val_Precision: 0.9930 - val_Recall: 0.9927 - val_accuracy: 0.9928 - val_loss: 0.0275\n",
            "Epoch 9/15\n",
            "\u001b[1m422/422\u001b[0m \u001b[32m━━━━━━━━━━━━━━━━━━━━\u001b[0m\u001b[37m\u001b[0m \u001b[1m3s\u001b[0m 6ms/step - Precision: 0.9931 - Recall: 0.9923 - accuracy: 0.9926 - loss: 0.0234 - val_Precision: 0.9933 - val_Recall: 0.9927 - val_accuracy: 0.9928 - val_loss: 0.0283\n",
            "Epoch 10/15\n",
            "\u001b[1m422/422\u001b[0m \u001b[32m━━━━━━━━━━━━━━━━━━━━\u001b[0m\u001b[37m\u001b[0m \u001b[1m2s\u001b[0m 5ms/step - Precision: 0.9926 - Recall: 0.9913 - accuracy: 0.9917 - loss: 0.0229 - val_Precision: 0.9920 - val_Recall: 0.9917 - val_accuracy: 0.9918 - val_loss: 0.0301\n",
            "Epoch 11/15\n",
            "\u001b[1m422/422\u001b[0m \u001b[32m━━━━━━━━━━━━━━━━━━━━\u001b[0m\u001b[37m\u001b[0m \u001b[1m3s\u001b[0m 6ms/step - Precision: 0.9929 - Recall: 0.9917 - accuracy: 0.9922 - loss: 0.0219 - val_Precision: 0.9940 - val_Recall: 0.9928 - val_accuracy: 0.9933 - val_loss: 0.0288\n",
            "Epoch 12/15\n",
            "\u001b[1m422/422\u001b[0m \u001b[32m━━━━━━━━━━━━━━━━━━━━\u001b[0m\u001b[37m\u001b[0m \u001b[1m3s\u001b[0m 6ms/step - Precision: 0.9933 - Recall: 0.9925 - accuracy: 0.9927 - loss: 0.0220 - val_Precision: 0.9915 - val_Recall: 0.9913 - val_accuracy: 0.9915 - val_loss: 0.0324\n",
            "Epoch 13/15\n",
            "\u001b[1m422/422\u001b[0m \u001b[32m━━━━━━━━━━━━━━━━━━━━\u001b[0m\u001b[37m\u001b[0m \u001b[1m2s\u001b[0m 6ms/step - Precision: 0.9939 - Recall: 0.9931 - accuracy: 0.9934 - loss: 0.0217 - val_Precision: 0.9940 - val_Recall: 0.9928 - val_accuracy: 0.9928 - val_loss: 0.0294\n",
            "Epoch 14/15\n",
            "\u001b[1m422/422\u001b[0m \u001b[32m━━━━━━━━━━━━━━━━━━━━\u001b[0m\u001b[37m\u001b[0m \u001b[1m2s\u001b[0m 5ms/step - Precision: 0.9932 - Recall: 0.9926 - accuracy: 0.9930 - loss: 0.0208 - val_Precision: 0.9928 - val_Recall: 0.9922 - val_accuracy: 0.9923 - val_loss: 0.0275\n",
            "Epoch 15/15\n",
            "\u001b[1m422/422\u001b[0m \u001b[32m━━━━━━━━━━━━━━━━━━━━\u001b[0m\u001b[37m\u001b[0m \u001b[1m2s\u001b[0m 5ms/step - Precision: 0.9936 - Recall: 0.9930 - accuracy: 0.9932 - loss: 0.0197 - val_Precision: 0.9930 - val_Recall: 0.9920 - val_accuracy: 0.9925 - val_loss: 0.0305\n"
          ]
        },
        {
          "output_type": "execute_result",
          "data": {
            "text/plain": [
              "<keras.src.callbacks.history.History at 0x7eb240915120>"
            ]
          },
          "metadata": {},
          "execution_count": 31
        }
      ],
      "source": [
        "batch_size = 128\n",
        "epochs = 15\n",
        "\n",
        "model.compile(\n",
        "    loss=\"categorical_crossentropy\",\n",
        "    optimizer=\"adam\",\n",
        "    metrics=[\"accuracy\", \"Precision\", \"Recall\"]\n",
        ")\n",
        "\n",
        "model.fit(x_train, y_train, batch_size=batch_size, epochs=epochs, validation_split=0.1)\n",
        "\n",
        "# Entrenando el modelo con el callback de TensorBoard\n",
        "model.fit(\n",
        "    x_train, y_train,\n",
        "    batch_size=batch_size,\n",
        "    epochs=epochs,\n",
        "    validation_split=0.1,\n",
        "    callbacks=[tensorboard_callback]  # Añadir el callback de TensorBoard\n",
        ")\n",
        "\n"
      ]
    },
    {
      "cell_type": "markdown",
      "metadata": {
        "id": "amojS4Ja_RAo"
      },
      "source": [
        "## Evaluate the trained model"
      ]
    },
    {
      "cell_type": "code",
      "execution_count": 32,
      "metadata": {
        "colab": {
          "base_uri": "https://localhost:8080/",
          "height": 727
        },
        "id": "0DKGD4gp_RAp",
        "outputId": "cdf9df1f-6ef5-4887-91e5-d6d86b90530c"
      },
      "outputs": [
        {
          "output_type": "stream",
          "name": "stdout",
          "text": [
            "Test loss: 0.023087063804268837\n",
            "Test accuracy: 0.9926000237464905\n",
            "Test precision: 0.9932892918586731\n",
            "Test recall: 0.9916999936103821\n",
            "\u001b[1m313/313\u001b[0m \u001b[32m━━━━━━━━━━━━━━━━━━━━\u001b[0m\u001b[37m\u001b[0m \u001b[1m1s\u001b[0m 2ms/step\n",
            "Confusion Matrix:\n",
            " [[ 978    0    1    0    0    0    0    1    0    0]\n",
            " [   0 1134    0    0    0    0    1    0    0    0]\n",
            " [   1    2 1021    0    1    0    0    5    2    0]\n",
            " [   0    0    1 1005    0    2    0    1    1    0]\n",
            " [   0    0    0    0  979    0    1    0    0    2]\n",
            " [   1    0    0    5    0  883    1    0    1    1]\n",
            " [   2    2    1    0    1    2  949    0    1    0]\n",
            " [   0    3    3    0    0    1    0 1020    1    0]\n",
            " [   2    1    2    1    0    1    0    1  964    2]\n",
            " [   0    0    0    0    9    3    0    3    1  993]]\n"
          ]
        },
        {
          "output_type": "display_data",
          "data": {
            "text/plain": [
              "<Figure size 640x480 with 2 Axes>"
            ],
            "image/png": "[encoded data removed]"
          },
          "metadata": {}
        }
      ],
      "source": [
        "# Evaluate the model\n",
        "score = model.evaluate(x_test, y_test, verbose=0)\n",
        "print(\"Test loss:\", score[0])\n",
        "print(\"Test accuracy:\", score[1])\n",
        "print(\"Test precision:\", score[2])\n",
        "print(\"Test recall:\", score[3])\n",
        "\n",
        "# Generate confusion matrix\n",
        "y_pred = model.predict(x_test)\n",
        "y_pred_classes = np.argmax(y_pred, axis=1)  # Convert predictions to class labels\n",
        "y_true = np.argmax(y_test, axis=1)          # Convert one-hot to class labels\n",
        "\n",
        "cm = confusion_matrix(y_true, y_pred_classes)\n",
        "print(\"Confusion Matrix:\\n\", cm)\n",
        "\n",
        "# Plot confusion matrix\n",
        "disp = ConfusionMatrixDisplay(confusion_matrix=cm, display_labels=range(num_classes))\n",
        "disp.plot(cmap=\"Blues\")\n",
        "plt.show()\n"
      ]
    },
    {
      "cell_type": "code",
      "source": [
        "# Crear el callback de EarlyStopping (detención temprana)\n",
        "early_stopping = EarlyStopping(\n",
        "    monitor='val_loss',  # Se puede usar 'val_accuracy' si prefieres monitorear la precisión\n",
        "    patience=3,          # Número de épocas sin mejora para detener el entrenamiento\n",
        "    restore_best_weights=True,  # Restablece los mejores pesos cuando se detiene el entrenamiento\n",
        ")\n",
        "\n",
        "# Crear el callback para guardar el mejor modelo durante el entrenamiento\n",
        "model_checkpoint = ModelCheckpoint(\n",
        "    'best_model.keras',        # Changed the file extension to .keras\n",
        "    monitor='val_loss',\n",
        "    save_best_only=True,\n",
        "    verbose=1\n",
        ")\n",
        "\n",
        "# Agregar ambos callbacks al entrenar el modelo\n",
        "callbacks = [early_stopping, model_checkpoint]\n",
        "\n",
        "# Entrenamiento del modelo con los callbacks\n",
        "model.fit(\n",
        "    x_train, y_train,\n",
        "    batch_size=batch_size,\n",
        "    epochs=epochs,\n",
        "    validation_split=0.1,\n",
        "    callbacks=callbacks  # Aquí se pasan los callbacks\n",
        ")\n",
        "\n",
        "!tensorboard --logdir=logs"
      ],
      "metadata": {
        "colab": {
          "base_uri": "https://localhost:8080/"
        },
        "id": "sS5dcEbjDXo2",
        "outputId": "71241674-6e05-4a13-dae0-0b8f9adf06e2"
      },
      "execution_count": null,
      "outputs": [
        {
          "output_type": "stream",
          "name": "stdout",
          "text": [
            "Epoch 1/15\n",
            "\u001b[1m407/422\u001b[0m \u001b[32m━━━━━━━━━━━━━━━━━━━\u001b[0m\u001b[37m━\u001b[0m \u001b[1m0s\u001b[0m 3ms/step - Precision: 0.9948 - Recall: 0.9942 - accuracy: 0.9945 - loss: 0.0157\n",
            "Epoch 1: val_loss improved from inf to 0.03406, saving model to best_model.keras\n",
            "\u001b[1m422/422\u001b[0m \u001b[32m━━━━━━━━━━━━━━━━━━━━\u001b[0m\u001b[37m\u001b[0m \u001b[1m2s\u001b[0m 4ms/step - Precision: 0.9948 - Recall: 0.9942 - accuracy: 0.9945 - loss: 0.0157 - val_Precision: 0.9933 - val_Recall: 0.9927 - val_accuracy: 0.9927 - val_loss: 0.0341\n",
            "Epoch 2/15\n",
            "\u001b[1m408/422\u001b[0m \u001b[32m━━━━━━━━━━━━━━━━━━━\u001b[0m\u001b[37m━\u001b[0m \u001b[1m0s\u001b[0m 3ms/step - Precision: 0.9957 - Recall: 0.9953 - accuracy: 0.9954 - loss: 0.0137\n",
            "Epoch 2: val_loss improved from 0.03406 to 0.02892, saving model to best_model.keras\n",
            "\u001b[1m422/422\u001b[0m \u001b[32m━━━━━━━━━━━━━━━━━━━━\u001b[0m\u001b[37m\u001b[0m \u001b[1m2s\u001b[0m 4ms/step - Precision: 0.9956 - Recall: 0.9952 - accuracy: 0.9954 - loss: 0.0137 - val_Precision: 0.9935 - val_Recall: 0.9927 - val_accuracy: 0.9928 - val_loss: 0.0289\n",
            "Epoch 3/15\n",
            "\u001b[1m421/422\u001b[0m \u001b[32m━━━━━━━━━━━━━━━━━━━\u001b[0m\u001b[37m━\u001b[0m \u001b[1m0s\u001b[0m 3ms/step - Precision: 0.9954 - Recall: 0.9949 - accuracy: 0.9951 - loss: 0.0144\n",
            "Epoch 3: val_loss did not improve from 0.02892\n",
            "\u001b[1m422/422\u001b[0m \u001b[32m━━━━━━━━━━━━━━━━━━━━\u001b[0m\u001b[37m\u001b[0m \u001b[1m2s\u001b[0m 4ms/step - Precision: 0.9954 - Recall: 0.9948 - accuracy: 0.9951 - loss: 0.0145 - val_Precision: 0.9928 - val_Recall: 0.9923 - val_accuracy: 0.9927 - val_loss: 0.0316\n",
            "Epoch 4/15\n",
            "\u001b[1m416/422\u001b[0m \u001b[32m━━━━━━━━━━━━━━━━━━━\u001b[0m\u001b[37m━\u001b[0m \u001b[1m0s\u001b[0m 4ms/step - Precision: 0.9956 - Recall: 0.9952 - accuracy: 0.9954 - loss: 0.0131\n",
            "Epoch 4: val_loss did not improve from 0.02892\n",
            "\u001b[1m422/422\u001b[0m \u001b[32m━━━━━━━━━━━━━━━━━━━━\u001b[0m\u001b[37m\u001b[0m \u001b[1m3s\u001b[0m 4ms/step - Precision: 0.9956 - Recall: 0.9951 - accuracy: 0.9954 - loss: 0.0131 - val_Precision: 0.9935 - val_Recall: 0.9933 - val_accuracy: 0.9933 - val_loss: 0.0308\n",
            "Epoch 5/15\n",
            "\u001b[1m410/422\u001b[0m \u001b[32m━━━━━━━━━━━━━━━━━━━\u001b[0m\u001b[37m━\u001b[0m \u001b[1m0s\u001b[0m 4ms/step - Precision: 0.9949 - Recall: 0.9946 - accuracy: 0.9948 - loss: 0.0142\n",
            "Epoch 5: val_loss did not improve from 0.02892\n",
            "\u001b[1m422/422\u001b[0m \u001b[32m━━━━━━━━━━━━━━━━━━━━\u001b[0m\u001b[37m\u001b[0m \u001b[1m2s\u001b[0m 4ms/step - Precision: 0.9949 - Recall: 0.9946 - accuracy: 0.9948 - loss: 0.0142 - val_Precision: 0.9937 - val_Recall: 0.9930 - val_accuracy: 0.9935 - val_loss: 0.0309\n",
            "2024-12-09 15:44:43.294884: E external/local_xla/xla/stream_executor/cuda/cuda_fft.cc:485] Unable to register cuFFT factory: Attempting to register factory for plugin cuFFT when one has already been registered\n",
            "2024-12-09 15:44:43.314754: E external/local_xla/xla/stream_executor/cuda/cuda_dnn.cc:8454] Unable to register cuDNN factory: Attempting to register factory for plugin cuDNN when one has already been registered\n",
            "2024-12-09 15:44:43.320775: E external/local_xla/xla/stream_executor/cuda/cuda_blas.cc:1452] Unable to register cuBLAS factory: Attempting to register factory for plugin cuBLAS when one has already been registered\n",
            "2024-12-09 15:44:44.363905: W tensorflow/compiler/tf2tensorrt/utils/py_utils.cc:38] TF-TRT Warning: Could not find TensorRT\n",
            "WARNING: All log messages before absl::InitializeLog() is called are written to STDERR\n",
            "I0000 00:00:1733759085.850257   10558 cuda_executor.cc:1015] successful NUMA node read from SysFS had negative value (-1), but there must be at least one NUMA node, so returning NUMA node zero. See more at https://github.com/torvalds/linux/blob/v6.0/Documentation/ABI/testing/sysfs-bus-pci#L344-L355\n",
            "I0000 00:00:1733759085.908514   10558 cuda_executor.cc:1015] successful NUMA node read from SysFS had negative value (-1), but there must be at least one NUMA node, so returning NUMA node zero. See more at https://github.com/torvalds/linux/blob/v6.0/Documentation/ABI/testing/sysfs-bus-pci#L344-L355\n",
            "I0000 00:00:1733759085.908813   10558 cuda_executor.cc:1015] successful NUMA node read from SysFS had negative value (-1), but there must be at least one NUMA node, so returning NUMA node zero. See more at https://github.com/torvalds/linux/blob/v6.0/Documentation/ABI/testing/sysfs-bus-pci#L344-L355\n",
            "\n",
            "NOTE: Using experimental fast data loading logic. To disable, pass\n",
            "    \"--load_fast=false\" and report issues on GitHub. More details:\n",
            "    https://github.com/tensorflow/tensorboard/issues/4784\n",
            "\n",
            "Serving TensorBoard on localhost; to expose to the network, use a proxy or pass --bind_all\n",
            "TensorBoard 2.17.1 at http://localhost:6006/ (Press CTRL+C to quit)\n"
          ]
        }
      ]
    },
    {
      "cell_type": "code",
      "source": [
        "from keras.callbacks import ModelCheckpoint\n",
        "\n",
        "# Guardar el mejor modelo basado en la validación\n",
        "checkpoint_callback = ModelCheckpoint(\n",
        "    'best_model.keras',\n",
        "    monitor='val_loss',  # Puedes cambiarlo a cualquier métrica que desees\n",
        "    save_best_only=True,\n",
        "    mode='min',  # Guarda solo si la pérdida de validación es menor\n",
        "    verbose=1\n",
        ")\n",
        "\n",
        "# Entrenamiento con ambos callbacks\n",
        "model.fit(\n",
        "    x_train, y_train,\n",
        "    batch_size=batch_size,\n",
        "    epochs=epochs,\n",
        "    validation_split=0.1,\n",
        "    callbacks=[tensorboard_callback, checkpoint_callback]  # Añadir ambos callbacks\n",
        ")\n"
      ],
      "metadata": {
        "id": "v8hP_UDXFN_o",
        "outputId": "57df9d0e-6763-477f-fec7-54de9026184e",
        "colab": {
          "base_uri": "https://localhost:8080/"
        }
      },
      "execution_count": 34,
      "outputs": [
        {
          "output_type": "stream",
          "name": "stdout",
          "text": [
            "Epoch 1/15\n",
            "\u001b[1m421/422\u001b[0m \u001b[32m━━━━━━━━━━━━━━━━━━━\u001b[0m\u001b[37m━\u001b[0m \u001b[1m0s\u001b[0m 6ms/step - Precision: 0.9938 - Recall: 0.9931 - accuracy: 0.9935 - loss: 0.0187\n",
            "Epoch 1: val_loss improved from inf to 0.03223, saving model to best_model.keras\n",
            "\u001b[1m422/422\u001b[0m \u001b[32m━━━━━━━━━━━━━━━━━━━━\u001b[0m\u001b[37m\u001b[0m \u001b[1m3s\u001b[0m 7ms/step - Precision: 0.9938 - Recall: 0.9931 - accuracy: 0.9935 - loss: 0.0187 - val_Precision: 0.9922 - val_Recall: 0.9907 - val_accuracy: 0.9915 - val_loss: 0.0322\n",
            "Epoch 2/15\n",
            "\u001b[1m419/422\u001b[0m \u001b[32m━━━━━━━━━━━━━━━━━━━\u001b[0m\u001b[37m━\u001b[0m \u001b[1m0s\u001b[0m 5ms/step - Precision: 0.9935 - Recall: 0.9927 - accuracy: 0.9930 - loss: 0.0197\n",
            "Epoch 2: val_loss improved from 0.03223 to 0.02895, saving model to best_model.keras\n",
            "\u001b[1m422/422\u001b[0m \u001b[32m━━━━━━━━━━━━━━━━━━━━\u001b[0m\u001b[37m\u001b[0m \u001b[1m5s\u001b[0m 5ms/step - Precision: 0.9935 - Recall: 0.9927 - accuracy: 0.9930 - loss: 0.0197 - val_Precision: 0.9935 - val_Recall: 0.9925 - val_accuracy: 0.9928 - val_loss: 0.0290\n",
            "Epoch 3/15\n",
            "\u001b[1m414/422\u001b[0m \u001b[32m━━━━━━━━━━━━━━━━━━━\u001b[0m\u001b[37m━\u001b[0m \u001b[1m0s\u001b[0m 5ms/step - Precision: 0.9944 - Recall: 0.9939 - accuracy: 0.9940 - loss: 0.0169\n",
            "Epoch 3: val_loss improved from 0.02895 to 0.02850, saving model to best_model.keras\n",
            "\u001b[1m422/422\u001b[0m \u001b[32m━━━━━━━━━━━━━━━━━━━━\u001b[0m\u001b[37m\u001b[0m \u001b[1m2s\u001b[0m 5ms/step - Precision: 0.9944 - Recall: 0.9939 - accuracy: 0.9940 - loss: 0.0169 - val_Precision: 0.9928 - val_Recall: 0.9922 - val_accuracy: 0.9928 - val_loss: 0.0285\n",
            "Epoch 4/15\n",
            "\u001b[1m416/422\u001b[0m \u001b[32m━━━━━━━━━━━━━━━━━━━\u001b[0m\u001b[37m━\u001b[0m \u001b[1m0s\u001b[0m 5ms/step - Precision: 0.9943 - Recall: 0.9934 - accuracy: 0.9938 - loss: 0.0185\n",
            "Epoch 4: val_loss did not improve from 0.02850\n",
            "\u001b[1m422/422\u001b[0m \u001b[32m━━━━━━━━━━━━━━━━━━━━\u001b[0m\u001b[37m\u001b[0m \u001b[1m3s\u001b[0m 6ms/step - Precision: 0.9943 - Recall: 0.9934 - accuracy: 0.9938 - loss: 0.0185 - val_Precision: 0.9937 - val_Recall: 0.9928 - val_accuracy: 0.9930 - val_loss: 0.0306\n",
            "Epoch 5/15\n",
            "\u001b[1m415/422\u001b[0m \u001b[32m━━━━━━━━━━━━━━━━━━━\u001b[0m\u001b[37m━\u001b[0m \u001b[1m0s\u001b[0m 6ms/step - Precision: 0.9938 - Recall: 0.9931 - accuracy: 0.9934 - loss: 0.0185\n",
            "Epoch 5: val_loss improved from 0.02850 to 0.02706, saving model to best_model.keras\n",
            "\u001b[1m422/422\u001b[0m \u001b[32m━━━━━━━━━━━━━━━━━━━━\u001b[0m\u001b[37m\u001b[0m \u001b[1m3s\u001b[0m 7ms/step - Precision: 0.9938 - Recall: 0.9931 - accuracy: 0.9934 - loss: 0.0185 - val_Precision: 0.9940 - val_Recall: 0.9935 - val_accuracy: 0.9938 - val_loss: 0.0271\n",
            "Epoch 6/15\n",
            "\u001b[1m417/422\u001b[0m \u001b[32m━━━━━━━━━━━━━━━━━━━\u001b[0m\u001b[37m━\u001b[0m \u001b[1m0s\u001b[0m 5ms/step - Precision: 0.9941 - Recall: 0.9934 - accuracy: 0.9936 - loss: 0.0199\n",
            "Epoch 6: val_loss did not improve from 0.02706\n",
            "\u001b[1m422/422\u001b[0m \u001b[32m━━━━━━━━━━━━━━━━━━━━\u001b[0m\u001b[37m\u001b[0m \u001b[1m2s\u001b[0m 5ms/step - Precision: 0.9941 - Recall: 0.9934 - accuracy: 0.9936 - loss: 0.0199 - val_Precision: 0.9938 - val_Recall: 0.9928 - val_accuracy: 0.9935 - val_loss: 0.0273\n",
            "Epoch 7/15\n",
            "\u001b[1m420/422\u001b[0m \u001b[32m━━━━━━━━━━━━━━━━━━━\u001b[0m\u001b[37m━\u001b[0m \u001b[1m0s\u001b[0m 5ms/step - Precision: 0.9941 - Recall: 0.9938 - accuracy: 0.9939 - loss: 0.0176\n",
            "Epoch 7: val_loss did not improve from 0.02706\n",
            "\u001b[1m422/422\u001b[0m \u001b[32m━━━━━━━━━━━━━━━━━━━━\u001b[0m\u001b[37m\u001b[0m \u001b[1m3s\u001b[0m 5ms/step - Precision: 0.9941 - Recall: 0.9938 - accuracy: 0.9939 - loss: 0.0176 - val_Precision: 0.9940 - val_Recall: 0.9935 - val_accuracy: 0.9937 - val_loss: 0.0280\n",
            "Epoch 8/15\n",
            "\u001b[1m421/422\u001b[0m \u001b[32m━━━━━━━━━━━━━━━━━━━\u001b[0m\u001b[37m━\u001b[0m \u001b[1m0s\u001b[0m 8ms/step - Precision: 0.9945 - Recall: 0.9940 - accuracy: 0.9943 - loss: 0.0165\n",
            "Epoch 8: val_loss did not improve from 0.02706\n",
            "\u001b[1m422/422\u001b[0m \u001b[32m━━━━━━━━━━━━━━━━━━━━\u001b[0m\u001b[37m\u001b[0m \u001b[1m4s\u001b[0m 9ms/step - Precision: 0.9945 - Recall: 0.9940 - accuracy: 0.9943 - loss: 0.0165 - val_Precision: 0.9925 - val_Recall: 0.9912 - val_accuracy: 0.9915 - val_loss: 0.0308\n",
            "Epoch 9/15\n",
            "\u001b[1m415/422\u001b[0m \u001b[32m━━━━━━━━━━━━━━━━━━━\u001b[0m\u001b[37m━\u001b[0m \u001b[1m0s\u001b[0m 7ms/step - Precision: 0.9942 - Recall: 0.9934 - accuracy: 0.9938 - loss: 0.0172\n",
            "Epoch 9: val_loss did not improve from 0.02706\n",
            "\u001b[1m422/422\u001b[0m \u001b[32m━━━━━━━━━━━━━━━━━━━━\u001b[0m\u001b[37m\u001b[0m \u001b[1m4s\u001b[0m 8ms/step - Precision: 0.9942 - Recall: 0.9934 - accuracy: 0.9938 - loss: 0.0172 - val_Precision: 0.9942 - val_Recall: 0.9937 - val_accuracy: 0.9938 - val_loss: 0.0283\n",
            "Epoch 10/15\n",
            "\u001b[1m416/422\u001b[0m \u001b[32m━━━━━━━━━━━━━━━━━━━\u001b[0m\u001b[37m━\u001b[0m \u001b[1m0s\u001b[0m 5ms/step - Precision: 0.9948 - Recall: 0.9940 - accuracy: 0.9942 - loss: 0.0184\n",
            "Epoch 10: val_loss did not improve from 0.02706\n",
            "\u001b[1m422/422\u001b[0m \u001b[32m━━━━━━━━━━━━━━━━━━━━\u001b[0m\u001b[37m\u001b[0m \u001b[1m4s\u001b[0m 6ms/step - Precision: 0.9948 - Recall: 0.9940 - accuracy: 0.9942 - loss: 0.0184 - val_Precision: 0.9948 - val_Recall: 0.9938 - val_accuracy: 0.9942 - val_loss: 0.0271\n",
            "Epoch 11/15\n",
            "\u001b[1m419/422\u001b[0m \u001b[32m━━━━━━━━━━━━━━━━━━━\u001b[0m\u001b[37m━\u001b[0m \u001b[1m0s\u001b[0m 5ms/step - Precision: 0.9950 - Recall: 0.9945 - accuracy: 0.9947 - loss: 0.0163\n",
            "Epoch 11: val_loss did not improve from 0.02706\n",
            "\u001b[1m422/422\u001b[0m \u001b[32m━━━━━━━━━━━━━━━━━━━━\u001b[0m\u001b[37m\u001b[0m \u001b[1m2s\u001b[0m 5ms/step - Precision: 0.9950 - Recall: 0.9945 - accuracy: 0.9947 - loss: 0.0163 - val_Precision: 0.9933 - val_Recall: 0.9925 - val_accuracy: 0.9930 - val_loss: 0.0285\n",
            "Epoch 12/15\n",
            "\u001b[1m418/422\u001b[0m \u001b[32m━━━━━━━━━━━━━━━━━━━\u001b[0m\u001b[37m━\u001b[0m \u001b[1m0s\u001b[0m 5ms/step - Precision: 0.9945 - Recall: 0.9939 - accuracy: 0.9943 - loss: 0.0160\n",
            "Epoch 12: val_loss did not improve from 0.02706\n",
            "\u001b[1m422/422\u001b[0m \u001b[32m━━━━━━━━━━━━━━━━━━━━\u001b[0m\u001b[37m\u001b[0m \u001b[1m2s\u001b[0m 5ms/step - Precision: 0.9945 - Recall: 0.9939 - accuracy: 0.9943 - loss: 0.0160 - val_Precision: 0.9933 - val_Recall: 0.9928 - val_accuracy: 0.9932 - val_loss: 0.0287\n",
            "Epoch 13/15\n",
            "\u001b[1m416/422\u001b[0m \u001b[32m━━━━━━━━━━━━━━━━━━━\u001b[0m\u001b[37m━\u001b[0m \u001b[1m0s\u001b[0m 5ms/step - Precision: 0.9951 - Recall: 0.9944 - accuracy: 0.9947 - loss: 0.0153\n",
            "Epoch 13: val_loss did not improve from 0.02706\n",
            "\u001b[1m422/422\u001b[0m \u001b[32m━━━━━━━━━━━━━━━━━━━━\u001b[0m\u001b[37m\u001b[0m \u001b[1m2s\u001b[0m 6ms/step - Precision: 0.9951 - Recall: 0.9944 - accuracy: 0.9947 - loss: 0.0153 - val_Precision: 0.9943 - val_Recall: 0.9935 - val_accuracy: 0.9940 - val_loss: 0.0287\n",
            "Epoch 14/15\n",
            "\u001b[1m416/422\u001b[0m \u001b[32m━━━━━━━━━━━━━━━━━━━\u001b[0m\u001b[37m━\u001b[0m \u001b[1m0s\u001b[0m 6ms/step - Precision: 0.9951 - Recall: 0.9946 - accuracy: 0.9948 - loss: 0.0155\n",
            "Epoch 14: val_loss did not improve from 0.02706\n",
            "\u001b[1m422/422\u001b[0m \u001b[32m━━━━━━━━━━━━━━━━━━━━\u001b[0m\u001b[37m\u001b[0m \u001b[1m3s\u001b[0m 7ms/step - Precision: 0.9951 - Recall: 0.9946 - accuracy: 0.9947 - loss: 0.0155 - val_Precision: 0.9940 - val_Recall: 0.9933 - val_accuracy: 0.9935 - val_loss: 0.0285\n",
            "Epoch 15/15\n",
            "\u001b[1m416/422\u001b[0m \u001b[32m━━━━━━━━━━━━━━━━━━━\u001b[0m\u001b[37m━\u001b[0m \u001b[1m0s\u001b[0m 5ms/step - Precision: 0.9953 - Recall: 0.9949 - accuracy: 0.9951 - loss: 0.0145\n",
            "Epoch 15: val_loss did not improve from 0.02706\n",
            "\u001b[1m422/422\u001b[0m \u001b[32m━━━━━━━━━━━━━━━━━━━━\u001b[0m\u001b[37m\u001b[0m \u001b[1m2s\u001b[0m 5ms/step - Precision: 0.9953 - Recall: 0.9949 - accuracy: 0.9951 - loss: 0.0145 - val_Precision: 0.9937 - val_Recall: 0.9933 - val_accuracy: 0.9935 - val_loss: 0.0294\n"
          ]
        },
        {
          "output_type": "execute_result",
          "data": {
            "text/plain": [
              "<keras.src.callbacks.history.History at 0x7eb240a111e0>"
            ]
          },
          "metadata": {},
          "execution_count": 34
        }
      ]
    }
  ],
  "metadata": {
    "accelerator": "GPU",
    "colab": {
      "name": "mnist_convnet",
      "provenance": [],
      "toc_visible": true
    },
    "kernelspec": {
      "display_name": "Python 3",
      "language": "python",
      "name": "python3"
    },
    "language_info": {
      "codemirror_mode": {
        "name": "ipython",
        "version": 3
      },
      "file_extension": ".py",
      "mimetype": "text/x-python",
      "name": "python",
      "nbconvert_exporter": "python",
      "pygments_lexer": "ipython3",
      "version": "3.7.0"
    }
  },
  "nbformat": 4,
  "nbformat_minor": 0
}